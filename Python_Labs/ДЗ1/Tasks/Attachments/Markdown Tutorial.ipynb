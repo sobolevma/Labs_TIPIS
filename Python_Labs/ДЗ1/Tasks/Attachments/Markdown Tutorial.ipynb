{
 "cells": [
  {
   "cell_type": "markdown",
   "metadata": {},
   "source": [
    "# Markdown Ячейки"
   ]
  },
  {
   "cell_type": "markdown",
   "metadata": {},
   "source": [
    "В Jupyter Notebook можно добавить текст, используя markdown ячейки. Можно изменить тип ячейки на верхней панели или с помощью горячей клавиши `m`. Markdown это популярный язык разметки, являющийся надстройкой над HTML. С его спецификацией можно ознакомиться [здесь](https://daringfireball.net/projects/markdown/)."
   ]
  },
  {
   "cell_type": "markdown",
   "metadata": {},
   "source": [
    "## Основы"
   ]
  },
  {
   "cell_type": "markdown",
   "metadata": {},
   "source": [
    "Начертание текста можно изменить на *курсив* или **полужирный**."
   ]
  },
  {
   "cell_type": "markdown",
   "metadata": {},
   "source": [
    "Можно составить вложенные маркированные или нумерованные списки:\n",
    "You can build nested itemized or enumerated lists:\n",
    "\n",
    "* Один\n",
    "    - Подпункт\n",
    "        - Это\n",
    "            - Подпункт\n",
    "        - То\n",
    "        - Еще что-нибудь\n",
    "* Два\n",
    "    - Подпункт\n",
    "* Три\n",
    "    - Подпункт\n",
    "    \n",
    "Еще один список:\n",
    "1. Начнем\n",
    "    1. Подпункт\n",
    "    2. Подпункт\n",
    "2. И вот так\n",
    "3. И наконец"
   ]
  },
  {
   "cell_type": "markdown",
   "metadata": {},
   "source": [
    "Можно добавить разделительную горизонтальную линию:\n",
    "\n",
    "---"
   ]
  },
  {
   "cell_type": "markdown",
   "metadata": {},
   "source": [
    "А вот цитата:\n",
    "\n",
    "> «*Beautiful is better than ugly. <br>\n",
    "> Explicit is better than implicit. <br>\n",
    "> Simple is better than complex.<br>\n",
    "> Complex is better than complicated.<br>\n",
    "> Flat is better than nested.<br>\n",
    "> Sparse is better than dense.<br>\n",
    "> Readability counts.<br>\n",
    "> Special cases aren't special enough to break the rules.<br>\n",
    "> Although practicality beats purity.<br>\n",
    "> Errors should never pass silently.<br>\n",
    "> Unless explicitly silenced.<br>\n",
    "> In the face of ambiguity, refuse the temptation to guess.<br>\n",
    "> There should be one -- and preferably only one -- obvious way to do it.<br>\n",
    "> Although that way may not be obvious at first unless you're Dutch.<br>\n",
    "> Now is better than never.<br>\n",
    "> Although never is often better than *right* now.<br>\n",
    "> If the implementation is hard to explain, it's a bad idea.<br>\n",
    "> If the implementation is easy to explain, it may be a good idea.<br>\n",
    "> Namespaces are one honking great idea -- let's do more of those!»*<br>\n",
    ">\n",
    "> The Zen of Python, by Tim Peters\n"
   ]
  },
  {
   "cell_type": "markdown",
   "metadata": {},
   "source": [
    "И удобное сокращение для ссылок:\n",
    "[Jupyter's website](http://jupyter.org)"
   ]
  },
  {
   "cell_type": "markdown",
   "metadata": {},
   "source": [
    "## Заголовки"
   ]
  },
  {
   "cell_type": "markdown",
   "metadata": {},
   "source": [
    "Можно добавить заголовок, начиная строку с одного (или нескольких) символов `#` и пробела, следующего за ним:\n",
    "\n",
    "```\n",
    "# Заголовок 1\n",
    "# Заголовок 2\n",
    "## Заголовок 2.1\n",
    "## Заголовок 2.2\n",
    "```"
   ]
  },
  {
   "cell_type": "markdown",
   "metadata": {},
   "source": [
    "## Встроенный код"
   ]
  },
  {
   "cell_type": "markdown",
   "metadata": {},
   "source": [
    "Можно вставить код, предназначенный для иллюстрации, вместо того, чтобы выполнять его:\n",
    "\n",
    "    def f(x):\n",
    "        \"\"\"a docstring\"\"\"\n",
    "        return x**2\n",
    "    "
   ]
  },
  {
   "cell_type": "markdown",
   "metadata": {},
   "source": [
    "## Математические формулы с LaTeX"
   ]
  },
  {
   "cell_type": "markdown",
   "metadata": {},
   "source": [
    "Благодаря MathJax, можно вставить красивую математическую формулу в строку $e^{i\\pi} + 1 = 0$ или на отдельной строке:\n",
    "\n",
    "$$e^x=\\sum_{i=0}^\\infty \\frac{1}{i!}x^i$$\n",
    "\n",
    "Внутритекстовые выражения оформляются как latex-код, окруженный символами `$`:\n",
    "```\n",
    "$e^{i\\pi} + 1 = 0$\n",
    "```\n",
    "Выражения на отдельной строке необходимо заключать в `$$`:\n",
    "```latex\n",
    "$$e^x=\\sum_{i=0}^\\infty \\frac{1}{i!}x^i$$\n",
    "```"
   ]
  },
  {
   "cell_type": "markdown",
   "metadata": {},
   "source": [
    "## Markdown в стиле GitHub"
   ]
  },
  {
   "cell_type": "markdown",
   "metadata": {},
   "source": [
    "Jupyter поддерживает markdown в стиле Github, то есть можно использовать тройные обратные кавычки для блоков кода:\n",
    "\n",
    "    ```python\n",
    "    print \"Hello World\"\n",
    "    ```\n",
    "\n",
    "    ```javascript\n",
    "    console.log(\"Hello World\")\n",
    "    ```\n",
    "\n",
    "Получится:\n",
    "\n",
    "```python\n",
    "print \"Hello World\"\n",
    "```\n",
    "```javascript\n",
    "console.log(\"Hello World\")\n",
    "```\n",
    "\n",
    "И таблица написанная таким образом: \n",
    "\n",
    "    | This | is   |\n",
    "    |------|------|\n",
    "    |   a  | table| \n",
    "\n",
    "Станет симпатичной HTML таблицей:\n",
    "\n",
    "| This | is   |\n",
    "|------|------|\n",
    "|   a  | table| \n"
   ]
  },
  {
   "cell_type": "markdown",
   "metadata": {},
   "source": [
    "## Еще HTML"
   ]
  },
  {
   "cell_type": "markdown",
   "metadata": {},
   "source": [
    "Так как Markdown - расширение HTML, можно добавить таблицу кодом на HTML:\n",
    "\n",
    "<table>\n",
    "<tr>\n",
    "<th>Заголовок 1</th>\n",
    "<th>Заголовок 2</th>\n",
    "</tr>\n",
    "<tr>\n",
    "<td>строка 1, ячейка 1</td>\n",
    "<td>строка 1, ячейка 2</td>\n",
    "</tr>\n",
    "<tr>\n",
    "<td>строка 2, ячейка 1</td>\n",
    "<td>строка 2, ячейка 2</td>\n",
    "</tr>\n",
    "</table>"
   ]
  },
  {
   "cell_type": "markdown",
   "metadata": {},
   "source": [
    "## Файлы"
   ]
  },
  {
   "cell_type": "markdown",
   "metadata": {},
   "source": [
    "Если файл находится в той же директории, что и ноутбук, можно сослаться непосредственно:\n",
    "\n",
    "    [subdirectory/]<filename>\n",
    "\n",
    "Например, в поддиректории images, у нас лежит логотип Python:\n",
    "\n",
    "    <img src=\"../images/python_logo.svg\" />\n",
    "\n",
    "<img src=\"../images/python_logo.svg\" />\n",
    "\n",
    "и можно вставить видео с HTML5 тэгом:\n",
    "\n",
    "    <video controls src=\"../images/animation.m4v\" />\n",
    "\n",
    "<video controls src=\"../images/animation.m4v\" />\n",
    "\n",
    "Файлы не копируются в ноутбук, при каждом просмотре требуется наличие файлов в указанных папках."
   ]
  },
  {
   "cell_type": "markdown",
   "metadata": {},
   "source": [
    "Глобальные файлы вставляются по такому же принципу"
   ]
  },
  {
   "cell_type": "markdown",
   "metadata": {},
   "source": [
    "<img src=\"https://www.python.org/static/img/python-logo.png\" />"
   ]
  }
 ],
 "metadata": {
  "anaconda-cloud": {},
  "kernelspec": {
   "display_name": "Python 3",
   "language": "python",
   "name": "python3"
  },
  "language_info": {
   "codemirror_mode": {
    "name": "ipython",
    "version": 3
   },
   "file_extension": ".py",
   "mimetype": "text/x-python",
   "name": "python",
   "nbconvert_exporter": "python",
   "pygments_lexer": "ipython3",
   "version": "3.7.0"
  }
 },
 "nbformat": 4,
 "nbformat_minor": 2
}
